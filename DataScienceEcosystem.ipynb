{
 "cells": [
  {
   "cell_type": "markdown",
   "id": "2fc2e055-d044-4132-9ae0-5369c44a690d",
   "metadata": {},
   "source": [
    "<h1>Data Science Tools and Ecosystem</h1>"
   ]
  },
  {
   "cell_type": "markdown",
   "id": "d3f99557-029c-4c05-a77b-2f64f6852954",
   "metadata": {},
   "source": [
    "In this notebook, Data Science Tools and Ecosystem are summarized."
   ]
  },
  {
   "cell_type": "markdown",
   "id": "0d5c219b-ab17-4538-8fbf-21e27d0396a9",
   "metadata": {
    "tags": []
   },
   "source": [
    "**Objectives:**\n",
    "<ul>\n",
    "    <li>Popular languages for Data Scientists</li>\n",
    "    <li>Commonly used libraries by Data Scientists</li>\n",
    "    <li>Basic arithmetic in python</li>\n",
    "</ul>"
   ]
  },
  {
   "cell_type": "markdown",
   "id": "bf3d84b3-445b-475a-93e0-43039933be48",
   "metadata": {},
   "source": [
    "Some of the popular languages that Data Scientists use are:\n",
    "<ol>\n",
    "    <li>Python</li>\n",
    "    <li>R</li>\n",
    "    <li>Scala</li>\n",
    "</ol>"
   ]
  },
  {
   "cell_type": "markdown",
   "id": "2cbcb736-63d0-44c7-8880-1e3df3fe9598",
   "metadata": {},
   "source": [
    "Some of the commonly used libraries used by Data Scientists include:\n",
    "<ol>\n",
    "    <li>Pandas</li>\n",
    "    <li>matplotlib</li>\n",
    "    <li>Pyspark</li>\n",
    "</ol>"
   ]
  },
  {
   "cell_type": "markdown",
   "id": "a67800b9-8c22-4600-8c24-1e9a41711895",
   "metadata": {},
   "source": [
    "<table>\n",
    "    <th>Data Science Tools</th>\n",
    "    <tr><td>TensorFlow<td></tr>\n",
    "    <tr><td>Jupyter Notebooks<td></tr>\n",
    "    <tr><td>Zeppelin Notebooks<td></tr>\n",
    "</table>"
   ]
  },
  {
   "cell_type": "markdown",
   "id": "378f6688-4b4f-4d6e-a73b-8457831db618",
   "metadata": {},
   "source": [
    "### Below are a few examples of evaluating arithmetic expressions in Python."
   ]
  },
  {
   "cell_type": "code",
   "execution_count": 2,
   "id": "7f5103bc-ab6e-4360-ac38-0c3396af08c6",
   "metadata": {
    "tags": []
   },
   "outputs": [
    {
     "name": "stdout",
     "output_type": "stream",
     "text": [
      "17\n"
     ]
    }
   ],
   "source": [
    "x = (3*4)+5\n",
    "print(x)"
   ]
  },
  {
   "cell_type": "code",
   "execution_count": 10,
   "id": "011970fa-cb41-48b5-9c00-1f5e2b226aea",
   "metadata": {
    "tags": []
   },
   "outputs": [
    {
     "name": "stdout",
     "output_type": "stream",
     "text": [
      "3.3333333333333335\n"
     ]
    }
   ],
   "source": [
    "totalMinutes = 200\n",
    "minutesInAnHour = 60\n",
    "totalHours = totalMinutes / minutesInAnHour\n",
    "print(totalHours)\n"
   ]
  },
  {
   "cell_type": "markdown",
   "id": "2c3e7b82-9046-4d5f-8d2d-f94dbdc1f3c6",
   "metadata": {},
   "source": [
    "<h2>Author</h2>\n",
    "Dylan James Lindley"
   ]
  },
  {
   "cell_type": "code",
   "execution_count": null,
   "id": "7140e7c9-2470-49ff-9c87-3851c434e6ec",
   "metadata": {},
   "outputs": [],
   "source": []
  }
 ],
 "metadata": {
  "kernelspec": {
   "display_name": "Python",
   "language": "python",
   "name": "conda-env-python-py"
  },
  "language_info": {
   "codemirror_mode": {
    "name": "ipython",
    "version": 3
   },
   "file_extension": ".py",
   "mimetype": "text/x-python",
   "name": "python",
   "nbconvert_exporter": "python",
   "pygments_lexer": "ipython3",
   "version": "3.7.12"
  }
 },
 "nbformat": 4,
 "nbformat_minor": 5
}
